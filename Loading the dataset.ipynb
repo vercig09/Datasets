{
 "cells": [
  {
   "cell_type": "markdown",
   "metadata": {},
   "source": [
    "# Loading the dataset\n",
    "\n",
    "First, we load all stories, which are assumed to be to be at \"location of the notebook\" + \"/cnn/stories\"."
   ]
  },
  {
   "cell_type": "code",
   "execution_count": 38,
   "metadata": {},
   "outputs": [],
   "source": [
    "from os import listdir\n",
    "from os.path import isfile, join\n",
    "\n",
    "# location of the stories\n",
    "loc_stories = \"cnn/stories\"\n",
    "onlyfiles = [loc_stories + \"/\" + f for f in listdir(loc_stories) if isfile(join(loc_stories, f))]\n",
    "\n",
    "# master list, which will contain dictionaries with two keys: the news story, and the summaries (collected together into one list)\n",
    "stories = []\n",
    "\n",
    "for file in onlyfiles:\n",
    "    with open(file) as f:\n",
    "        temp = f.read().split(\"@highlight\")\n",
    "        story = temp[0]\n",
    "        highlights = temp[1:]\n",
    "        if len(highlights) == 0:\n",
    "            print(\"No summaries found for the file: {}\".format(file))\n",
    "        d = {\n",
    "            \"story\": story,\n",
    "            \"highlights\": highlights\n",
    "        }\n",
    "        stories.append(d)"
   ]
  },
  {
   "cell_type": "markdown",
   "metadata": {},
   "source": [
    "Using the pickle module, we export the master_list (called stories) into a file named \"news_summaries.pkl\"."
   ]
  },
  {
   "cell_type": "code",
   "execution_count": 39,
   "metadata": {},
   "outputs": [],
   "source": [
    "import pickle\n",
    "\n",
    "f = open('news_summaries.pkl', 'wb')\n",
    "pickle.dump(stories, f)\n",
    "f.close()  "
   ]
  }
 ],
 "metadata": {
  "kernelspec": {
   "display_name": "Python 3",
   "language": "python",
   "name": "python3"
  },
  "language_info": {
   "codemirror_mode": {
    "name": "ipython",
    "version": 3
   },
   "file_extension": ".py",
   "mimetype": "text/x-python",
   "name": "python",
   "nbconvert_exporter": "python",
   "pygments_lexer": "ipython3",
   "version": "3.7.4"
  }
 },
 "nbformat": 4,
 "nbformat_minor": 2
}
